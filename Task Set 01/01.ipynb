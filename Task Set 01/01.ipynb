{
 "cells": [
  {
   "cell_type": "markdown",
   "id": "865ea139",
   "metadata": {},
   "source": [
    "## Task-1 Write a program to iterate the first 10 numbers, and in each iteration, print the sum of the current and previous number"
   ]
  },
  {
   "cell_type": "code",
   "execution_count": 2,
   "id": "9a335721",
   "metadata": {},
   "outputs": [
    {
     "name": "stdout",
     "output_type": "stream",
     "text": [
      "1\n",
      "3\n",
      "5\n",
      "7\n",
      "9\n",
      "11\n",
      "13\n",
      "15\n",
      "17\n",
      "19\n"
     ]
    }
   ],
   "source": [
    "pre_num = 0\n",
    "for i in range(1,11):\n",
    "    print(i + pre_num)\n",
    "    pre_num = i"
   ]
  },
  {
   "cell_type": "markdown",
   "id": "a7746099",
   "metadata": {},
   "source": [
    "## Task-2 Print the following pattern\n",
    "### 1\n",
    "### 2 2\n",
    "### 3 3 3\n",
    "### 4 4 4 4\n",
    "### 5 5 5 5 5"
   ]
  },
  {
   "cell_type": "code",
   "execution_count": 2,
   "id": "b87cddb0",
   "metadata": {},
   "outputs": [
    {
     "name": "stdout",
     "output_type": "stream",
     "text": [
      "1 \r\n",
      "2 2 \r\n",
      "3 3 3 \r\n",
      "4 4 4 4 \r\n",
      "5 5 5 5 5 \r\n"
     ]
    }
   ],
   "source": [
    "for i in range(1, 6):\n",
    "    for j in range(i):\n",
    "        print(i, end=\" \")\n",
    "    print('\\r')"
   ]
  },
  {
   "cell_type": "markdown",
   "id": "a41d5950",
   "metadata": {},
   "source": [
    "## Task-3 Write a program to display only those numbers from a list that satisfy the following conditions\n",
    "## i. The number must be divisible by five\n",
    "## ii. If the number is greater than 150, then skip it and move to the next number\n",
    "## iii. If the number is greater than 500, then stop the loop"
   ]
  },
  {
   "cell_type": "code",
   "execution_count": 1,
   "id": "18118271",
   "metadata": {},
   "outputs": [
    {
     "name": "stdout",
     "output_type": "stream",
     "text": [
      "75\n",
      "150\n",
      "145\n"
     ]
    }
   ],
   "source": [
    "numbers = [12, 75, 150, 180, 145, 525, 50]\n",
    "for n in numbers:\n",
    "    if n > 500:\n",
    "        break\n",
    "    elif n % 5 == 0:\n",
    "        if n > 150:\n",
    "            continue\n",
    "        print(n)"
   ]
  },
  {
   "cell_type": "markdown",
   "id": "2eb9b201",
   "metadata": {},
   "source": [
    "## Task-4 Display Fibonacci series up to 10 terms"
   ]
  },
  {
   "cell_type": "code",
   "execution_count": 2,
   "id": "51bf7d72",
   "metadata": {},
   "outputs": [
    {
     "name": "stdout",
     "output_type": "stream",
     "text": [
      "0\n",
      "1\n",
      "1\n",
      "2\n",
      "3\n",
      "5\n",
      "8\n",
      "13\n",
      "21\n",
      "34\n"
     ]
    }
   ],
   "source": [
    "n1 = 0\n",
    "n2 = 1\n",
    "print(n1)\n",
    "print(n2)\n",
    "for i in range(8):\n",
    "    n3=n1+n2\n",
    "    print(n3)\n",
    "    n1,n2=n2,n3"
   ]
  },
  {
   "cell_type": "markdown",
   "id": "05b73435",
   "metadata": {},
   "source": [
    "## Task-5 Write a program to use loop to find the factorial of a given number"
   ]
  },
  {
   "cell_type": "code",
   "execution_count": 3,
   "id": "81d9e8b1",
   "metadata": {},
   "outputs": [
    {
     "name": "stdout",
     "output_type": "stream",
     "text": [
      "Enter a whole number to calculate its factorial: 5\n",
      "120\n"
     ]
    }
   ],
   "source": [
    "num = int(input(\"Enter a whole number to calculate its factorial: \"))\n",
    "fac = 1;\n",
    "for i in range(1 , num+1):\n",
    "    fac *= i\n",
    "print(fac)"
   ]
  },
  {
   "cell_type": "markdown",
   "id": "e5fdce88",
   "metadata": {},
   "source": [
    "## Task-6 Write a program to iterate a given list and count the occurrence of each element and print to show the count of each element"
   ]
  },
  {
   "cell_type": "code",
   "execution_count": 7,
   "id": "30a0a151",
   "metadata": {},
   "outputs": [
    {
     "name": "stdout",
     "output_type": "stream",
     "text": [
      "Printing count of each item:\n",
      "11 : 2\n",
      "45 : 3\n",
      "8 : 1\n",
      "23 : 2\n",
      "89 : 1\n"
     ]
    }
   ],
   "source": [
    "sample_list = [11, 45, 8, 11, 23, 45, 23, 45, 89]\n",
    "count = {}\n",
    "\n",
    "for item in sample_list:\n",
    "    if item in count:\n",
    "        count[item] += 1\n",
    "    else:\n",
    "        count[item] = 1\n",
    "\n",
    "print(\"Printing count of each item:\")\n",
    "for item in count:\n",
    "    print(item, \":\", count[item])"
   ]
  },
  {
   "cell_type": "markdown",
   "id": "03b5122a",
   "metadata": {},
   "source": [
    "## Task-7 Given two lists, l1 and l2, write a program to create a third list l3 by picking an odd-index element from the list l1 and even index elements from the list l2."
   ]
  },
  {
   "cell_type": "code",
   "execution_count": 6,
   "id": "15b5511f",
   "metadata": {},
   "outputs": [
    {
     "name": "stdout",
     "output_type": "stream",
     "text": [
      "[6, 12, 18, 4, 12, 20, 28]\n"
     ]
    }
   ],
   "source": [
    "l1 = [3, 6, 9, 12, 15, 18, 21]\n",
    "l2 = [4, 8, 12, 16, 20, 24, 28]\n",
    "l3 = []\n",
    "\n",
    "for i in range(1, len(l1), 2):    #(start, stop, step)  start from index 1 and increment index by 2 to skip to the odd index.\n",
    "    l3.append(l1[i])\n",
    "for i in range(0, len(l1), 2):    #same logic but start from 0 as 0 is considered an even number.\n",
    "    l3.append(l2[i])\n",
    "print(l3)"
   ]
  }
 ],
 "metadata": {
  "kernelspec": {
   "display_name": "Python 3 (ipykernel)",
   "language": "python",
   "name": "python3"
  },
  "language_info": {
   "codemirror_mode": {
    "name": "ipython",
    "version": 3
   },
   "file_extension": ".py",
   "mimetype": "text/x-python",
   "name": "python",
   "nbconvert_exporter": "python",
   "pygments_lexer": "ipython3",
   "version": "3.11.5"
  }
 },
 "nbformat": 4,
 "nbformat_minor": 5
}
