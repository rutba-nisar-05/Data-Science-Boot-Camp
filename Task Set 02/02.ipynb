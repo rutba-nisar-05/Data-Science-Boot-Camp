{
 "cells": [
  {
   "cell_type": "markdown",
   "id": "23f8a535",
   "metadata": {},
   "source": [
    "## Task-1 Accept the string from the user and diplay the string with first charactor of each word is capital"
   ]
  },
  {
   "cell_type": "code",
   "execution_count": 15,
   "id": "88b88479",
   "metadata": {},
   "outputs": [
    {
     "name": "stdout",
     "output_type": "stream",
     "text": [
      "Enter a sentence: hello, my name is rutba\n",
      "Hello, My Name Is Rutba\n"
     ]
    }
   ],
   "source": [
    "user_input = input(\"Enter a sentence: \")\n",
    "words = user_input.split()\n",
    "\n",
    "capitalised = [word.capitalize() for word in words]\n",
    "\n",
    "final_string = \" \".join(capitalised)\n",
    "print(final_string)"
   ]
  },
  {
   "cell_type": "markdown",
   "id": "7d1cc095",
   "metadata": {},
   "source": [
    "## Task-2 Write a program to reverse string in Python"
   ]
  },
  {
   "cell_type": "code",
   "execution_count": 17,
   "id": "d4a55b2c",
   "metadata": {},
   "outputs": [
    {
     "name": "stdout",
     "output_type": "stream",
     "text": [
      "Enter a sentence: hello, my name is rutba\n",
      "abtur si eman ym ,olleh\n"
     ]
    }
   ],
   "source": [
    "user_input = input(\"Enter a sentence: \")\n",
    "reversed_input = \"\".join(reversed(user_input))\n",
    "print(reversed_input)"
   ]
  }
 ],
 "metadata": {
  "kernelspec": {
   "display_name": "Python 3 (ipykernel)",
   "language": "python",
   "name": "python3"
  },
  "language_info": {
   "codemirror_mode": {
    "name": "ipython",
    "version": 3
   },
   "file_extension": ".py",
   "mimetype": "text/x-python",
   "name": "python",
   "nbconvert_exporter": "python",
   "pygments_lexer": "ipython3",
   "version": "3.11.5"
  }
 },
 "nbformat": 4,
 "nbformat_minor": 5
}
