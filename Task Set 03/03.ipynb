{
 "cells": [
  {
   "cell_type": "markdown",
   "id": "917d33e9",
   "metadata": {},
   "source": [
    "## Task-1 Given a list of numbers, write a program to turn every item of a list into its square."
   ]
  },
  {
   "cell_type": "code",
   "execution_count": 14,
   "id": "e5083b9b",
   "metadata": {},
   "outputs": [
    {
     "name": "stdout",
     "output_type": "stream",
     "text": [
      "Then: [1, 2, 3, 4, 5, 6, 7]\n",
      "Now: [1, 4, 9, 16, 25, 36, 49]\n"
     ]
    }
   ],
   "source": [
    "#(Updating the same list with the squares)\n",
    "numbers = [1, 2, 3, 4, 5, 6, 7]\n",
    "\n",
    "print(f\"Then: {numbers}\")\n",
    "for i in range(len(numbers)):\n",
    "    numbers[i] = numbers[i] * numbers[i]\n",
    "    \n",
    "print(f\"Now: {numbers}\")"
   ]
  },
  {
   "cell_type": "code",
   "execution_count": 13,
   "id": "7b519e67",
   "metadata": {},
   "outputs": [
    {
     "name": "stdout",
     "output_type": "stream",
     "text": [
      "Initial: [1, 2, 3, 4, 5, 6, 7]\n",
      "New: [1, 4, 9, 16, 25, 36, 49]\n"
     ]
    }
   ],
   "source": [
    "#(Creating a new list with the squares)\n",
    "numbers = [1, 2, 3, 4, 5, 6, 7]\n",
    "new_numbers = []\n",
    "\n",
    "for i in range(len(numbers)):\n",
    "    new_numbers.append(numbers[i] * numbers[i])\n",
    "    \n",
    "print(f\"Initial: {numbers}\")\n",
    "print(f\"New: {new_numbers}\")"
   ]
  },
  {
   "cell_type": "markdown",
   "id": "c6f3c67a",
   "metadata": {},
   "source": [
    "## Task-2 Write a program to add item 7000 after 6000 in the following Python List"
   ]
  },
  {
   "cell_type": "code",
   "execution_count": 1,
   "id": "fa974e49",
   "metadata": {},
   "outputs": [
    {
     "name": "stdout",
     "output_type": "stream",
     "text": [
      "[10, 20, [300, 400, [5000, 6000, 7000], 500], 30, 40]\n"
     ]
    }
   ],
   "source": [
    "list1 = [10, 20, [300, 400, [5000, 6000], 500], 30, 40]\n",
    "\n",
    "list1[2][2].append(7000)\n",
    "print(list1)"
   ]
  },
  {
   "cell_type": "markdown",
   "id": "ae6409dd",
   "metadata": {},
   "source": [
    "## Task-3 You have given a Python list. Write a program to find value 20 in the list, and if it is present, replace it with 200. Only update the first occurrence of an item."
   ]
  },
  {
   "cell_type": "code",
   "execution_count": 11,
   "id": "d322f4c4",
   "metadata": {},
   "outputs": [
    {
     "name": "stdout",
     "output_type": "stream",
     "text": [
      "[5, 10, 15, 200, 25, 50, 20]\n"
     ]
    }
   ],
   "source": [
    "list1 = [5, 10, 15, 20, 25, 50, 20]\n",
    "\n",
    "if 20 in list1:\n",
    "    index = list1.index(20)\n",
    "    list1.pop(index)\n",
    "    list1.insert(index,200)\n",
    "else:\n",
    "    print(\"20 is not present in the list.\")\n",
    "    \n",
    "print(list1)"
   ]
  }
 ],
 "metadata": {
  "kernelspec": {
   "display_name": "Python 3 (ipykernel)",
   "language": "python",
   "name": "python3"
  },
  "language_info": {
   "codemirror_mode": {
    "name": "ipython",
    "version": 3
   },
   "file_extension": ".py",
   "mimetype": "text/x-python",
   "name": "python",
   "nbconvert_exporter": "python",
   "pygments_lexer": "ipython3",
   "version": "3.11.5"
  }
 },
 "nbformat": 4,
 "nbformat_minor": 5
}
