{
 "cells": [
  {
   "cell_type": "markdown",
   "id": "c13e7d99",
   "metadata": {},
   "source": [
    "# Sets in Python Tasks"
   ]
  },
  {
   "cell_type": "markdown",
   "id": "dad03bb5",
   "metadata": {},
   "source": [
    "## Task-1 Write a Python program to remove an item from a set if it is present in the set."
   ]
  },
  {
   "cell_type": "code",
   "execution_count": 8,
   "id": "75f2a808",
   "metadata": {},
   "outputs": [
    {
     "name": "stdout",
     "output_type": "stream",
     "text": [
      "set1 (Before): {20, 25, 10, 30, 15}\n",
      "set1 (After): {25, 10, 30, 15}\n",
      "20 is not present in set2.\n"
     ]
    }
   ],
   "source": [
    "set1 = {10, 15, 20, 25, 30}\n",
    "set2 = {33, 77, 99, 111}\n",
    "\n",
    "if 20 in set1:\n",
    "    print(f\"set1 (Before): {set1}\")\n",
    "    set1.remove(20)\n",
    "    print(f\"set1 (After): {set1}\")\n",
    "else:\n",
    "    print(\"20 is not present in the set1.\")\n",
    "\n",
    "    \n",
    "if 20 in set2:\n",
    "    print(f\"Before: {set2}\")\n",
    "    set2.remove(20)\n",
    "    print(f\"After: {set2}\")\n",
    "else:\n",
    "    print(\"20 is not present in set2.\")"
   ]
  },
  {
   "cell_type": "markdown",
   "id": "bf086b98",
   "metadata": {},
   "source": [
    "## Task-2 Write a Python program to remove items 10, 20, 30 from the following set"
   ]
  },
  {
   "cell_type": "code",
   "execution_count": 10,
   "id": "4c0f3743",
   "metadata": {},
   "outputs": [
    {
     "name": "stdout",
     "output_type": "stream",
     "text": [
      "{50, 40}\n"
     ]
    }
   ],
   "source": [
    "set1 = {10, 20, 30, 40, 50}\n",
    "\n",
    "set1.remove(10)\n",
    "set1.remove(20)\n",
    "set1.remove(30)\n",
    "print(set1)"
   ]
  },
  {
   "cell_type": "markdown",
   "id": "5b4d0290",
   "metadata": {},
   "source": [
    "## Task-3 Check if two sets have any elements in common. If yes, display the common elements"
   ]
  },
  {
   "cell_type": "code",
   "execution_count": 11,
   "id": "6cb5e018",
   "metadata": {},
   "outputs": [
    {
     "name": "stdout",
     "output_type": "stream",
     "text": [
      "{10}\n"
     ]
    }
   ],
   "source": [
    "set1 = {10, 20, 30, 40, 50}\n",
    "set2 = {60, 70, 80, 90, 10}\n",
    "\n",
    "sets_common = set1.intersection(set2)\n",
    "print(sets_common)"
   ]
  },
  {
   "cell_type": "markdown",
   "id": "7775ae98",
   "metadata": {},
   "source": [
    "## Task-4 Update set1 by adding items from set2, except common items"
   ]
  },
  {
   "cell_type": "code",
   "execution_count": 24,
   "id": "0bd94ef0",
   "metadata": {},
   "outputs": [
    {
     "name": "stdout",
     "output_type": "stream",
     "text": [
      "set1 then: {70, 40, 10, 50, 20, 60, 30}\n",
      "set1 now: {70, 10, 20, 60}\n"
     ]
    }
   ],
   "source": [
    "set1 = {10, 20, 30, 40, 50}\n",
    "set2 = {30, 40, 50, 60, 70}\n",
    "\n",
    "print(f\"set1 then: {set1}\")\n",
    "common = set1.intersection(set2)\n",
    "set1.update(set1.union(set2))\n",
    "\n",
    "for item in set1 and common:\n",
    "    set1.discard(item)\n",
    "print(f\"set1 now: {set1}\")"
   ]
  },
  {
   "cell_type": "markdown",
   "id": "8d4a6a23",
   "metadata": {},
   "source": [
    "## Task-5 Remove items from set1 that are not common to both set1 and set2"
   ]
  },
  {
   "cell_type": "code",
   "execution_count": 31,
   "id": "fb4c4f84",
   "metadata": {},
   "outputs": [
    {
     "name": "stdout",
     "output_type": "stream",
     "text": [
      "{40, 50, 30}\n"
     ]
    }
   ],
   "source": [
    "set1 = {10, 20, 30, 40, 50}\n",
    "set2 = {30, 40, 50, 60, 70}\n",
    "\n",
    "set1.intersection_update(set2)\n",
    "print(set1)"
   ]
  },
  {
   "cell_type": "markdown",
   "id": "0aa535ca",
   "metadata": {},
   "source": [
    "# Dictionaries in Python Tasks"
   ]
  },
  {
   "cell_type": "markdown",
   "id": "e60140c2",
   "metadata": {},
   "source": [
    "## Task-1 Write a Python script to check whether a given key already exists in a dictionary."
   ]
  },
  {
   "cell_type": "code",
   "execution_count": 35,
   "id": "e408815a",
   "metadata": {},
   "outputs": [
    {
     "name": "stdout",
     "output_type": "stream",
     "text": [
      "c exists\n",
      "e doesn't exist\n"
     ]
    }
   ],
   "source": [
    "dict = {'a':13, 'b':26, 'c':35}\n",
    "\n",
    "#method-1 (will provide an error message if the key doesn't exist i.e 'else' won't run)\n",
    "if dict['c']:\n",
    "    print(\"c exists\")\n",
    "else:\n",
    "    print(\"c doesn't exist\")\n",
    "\n",
    "#method-2\n",
    "if 'e' in dict:\n",
    "    print(\"e exists\")\n",
    "else:\n",
    "    print(\"e doesn't exist\")"
   ]
  },
  {
   "cell_type": "markdown",
   "id": "2d8603cc",
   "metadata": {},
   "source": [
    "## Task-2 Write a Python program to combine two dictionary by adding values for common keys."
   ]
  },
  {
   "cell_type": "code",
   "execution_count": 36,
   "id": "d61a95b9",
   "metadata": {},
   "outputs": [
    {
     "name": "stdout",
     "output_type": "stream",
     "text": [
      "{'a': 400, 'b': 400, 'c': 300, 'd': 400}\n"
     ]
    }
   ],
   "source": [
    "d1 = {'a': 100, 'b': 200, 'c':300}\n",
    "d2 = {'a': 300, 'b': 200, 'd':400}\n",
    "\n",
    "d3 = {}\n",
    "for key, value in d1.items():\n",
    "    d3[key] = value\n",
    "    \n",
    "for key, value in d2.items():\n",
    "    if key in d3:\n",
    "        d3[key] += value\n",
    "    else:\n",
    "        d3[key] = value\n",
    "        \n",
    "print(d3)"
   ]
  },
  {
   "cell_type": "markdown",
   "id": "998a6036",
   "metadata": {},
   "source": [
    "## Task-3 Below are the two lists. Write a Python program to convert them into a dictionary in a way that item from list1 is the key and item from list2 is the value"
   ]
  },
  {
   "cell_type": "code",
   "execution_count": 3,
   "id": "24ea7303",
   "metadata": {},
   "outputs": [
    {
     "name": "stdout",
     "output_type": "stream",
     "text": [
      "{'Ten': 10, 'Twenty': 20, 'Thirty': 30}\n"
     ]
    }
   ],
   "source": [
    "keys = ['Ten', 'Twenty', 'Thirty']\n",
    "values = [10, 20, 30]\n",
    "\n",
    "dict = {}\n",
    "\n",
    "for i in range(len(keys)):\n",
    "    for value in values:\n",
    "        dict[keys[i]] = values[i]\n",
    "    \n",
    "print(dict)"
   ]
  },
  {
   "cell_type": "markdown",
   "id": "ea942c45",
   "metadata": {},
   "source": [
    "## Task-4 Delete a list of keys from a dictionary \n",
    "## Given: sample_dict = { \"name\": \"Kelly\", \"age\": 25, \"salary\": 8000, \"city\": \"New york\" }\n",
    "## Keys to remove: keys = [\"name\", \"salary\"]"
   ]
  },
  {
   "cell_type": "code",
   "execution_count": 6,
   "id": "0f856fd8",
   "metadata": {},
   "outputs": [
    {
     "name": "stdout",
     "output_type": "stream",
     "text": [
      "{'age': 25, 'city': 'New york'}\n"
     ]
    }
   ],
   "source": [
    "sample_dict = { \"name\": \"Kelly\", \"age\": 25, \"salary\": 8000, \"city\": \"New york\" }\n",
    "\n",
    "keys = [\"name\", \"salary\"]\n",
    "\n",
    "for key in keys:\n",
    "    if key in sample_dict:\n",
    "        del sample_dict[key]\n",
    "        \n",
    "print(sample_dict)"
   ]
  },
  {
   "cell_type": "markdown",
   "id": "a6289624",
   "metadata": {},
   "source": [
    "## Task-5 Write a Python program to check if value 200 exists in the following dictionary.\n",
    "## sample_dict = {'a': 100, 'b': 200, 'c': 300}"
   ]
  },
  {
   "cell_type": "code",
   "execution_count": 9,
   "id": "8b82b8a5",
   "metadata": {},
   "outputs": [
    {
     "name": "stdout",
     "output_type": "stream",
     "text": [
      "The value 200 exists in sample_dict\n"
     ]
    }
   ],
   "source": [
    "sample_dict = {'a': 100, 'b': 200, 'c': 300}\n",
    "\n",
    "if 200 in sample_dict.values():\n",
    "    print(\"The value 200 exists in sample_dict\")\n",
    "else:\n",
    "    print(\"The value 200 does not exist in sample_dict\")"
   ]
  }
 ],
 "metadata": {
  "kernelspec": {
   "display_name": "Python 3 (ipykernel)",
   "language": "python",
   "name": "python3"
  },
  "language_info": {
   "codemirror_mode": {
    "name": "ipython",
    "version": 3
   },
   "file_extension": ".py",
   "mimetype": "text/x-python",
   "name": "python",
   "nbconvert_exporter": "python",
   "pygments_lexer": "ipython3",
   "version": "3.11.5"
  }
 },
 "nbformat": 4,
 "nbformat_minor": 5
}
